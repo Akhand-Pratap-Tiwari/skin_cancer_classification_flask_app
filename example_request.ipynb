{
 "cells": [
  {
   "cell_type": "code",
   "execution_count": 10,
   "metadata": {},
   "outputs": [],
   "source": [
    "import requests\n",
    "import base64\n",
    "\n",
    "# Function to encode the image in base64\n",
    "def encode_image(image_path):\n",
    "    with open(image_path, \"rb\") as image_file:\n",
    "        return base64.b64encode(image_file.read()).decode('utf-8')\n",
    "\n",
    "# Image file path\n",
    "image_path = 'example_image.jpg'\n",
    "\n",
    "# Encode the image\n",
    "encoded_image = encode_image(image_path)\n",
    "\n",
    "# Set the Flask server URL (local)\n",
    "url = 'http://127.0.0.1:5000/'\n",
    "\n",
    "# Prepare the payload (JSON with base64 image)\n",
    "payload = {\n",
    "    'image': encoded_image,\n",
    "    'filename': 'image_name.jpg'\n",
    "}\n",
    "\n",
    "# Send a POST request with the encoded image\n",
    "response = requests.post(url, json=payload)\n",
    "\n",
    "# Print the response from the Flask server\n"
   ]
  },
  {
   "cell_type": "code",
   "execution_count": 9,
   "metadata": {},
   "outputs": [
    {
     "name": "stdout",
     "output_type": "stream",
     "text": [
      "Response from Flask: {\"_inference\":\"akiec\",\"akiec\":\"100.0\",\"bcc\":\"0.0\",\"bkl\":\"0.0\",\"df\":\"0.0\",\"mel\":\"0.0\",\"nv\":\"0.0\",\"vasc\":\"0.0\"}\n",
      "\n"
     ]
    }
   ],
   "source": [
    "print('Response from Flask:', response.text)"
   ]
  }
 ],
 "metadata": {
  "kernelspec": {
   "display_name": "Python 3",
   "language": "python",
   "name": "python3"
  },
  "language_info": {
   "codemirror_mode": {
    "name": "ipython",
    "version": 3
   },
   "file_extension": ".py",
   "mimetype": "text/x-python",
   "name": "python",
   "nbconvert_exporter": "python",
   "pygments_lexer": "ipython3",
   "version": "3.11.6"
  }
 },
 "nbformat": 4,
 "nbformat_minor": 2
}
